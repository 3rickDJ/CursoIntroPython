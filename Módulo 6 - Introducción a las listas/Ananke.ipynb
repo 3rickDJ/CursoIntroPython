{
 "cells": [
  {
   "cell_type": "markdown",
   "metadata": {},
   "source": [
    "# Katas 6\n",
    "\n",
    "## Exercise 1: Lists"
   ]
  },
  {
   "cell_type": "code",
   "execution_count": 19,
   "metadata": {},
   "outputs": [
    {
     "name": "stdout",
     "output_type": "stream",
     "text": [
      "Mercury\n",
      "Venus\n",
      "Earth\n",
      "Mars\n",
      "Jupiter\n",
      "Saturn\n",
      "Neptune\n"
     ]
    }
   ],
   "source": [
    "planets = ['Mercury', 'Venus', 'Earth','Mars','Jupiter','Saturn','Neptune']\n",
    "for planet in planets:\n",
    "    print(planet)"
   ]
  },
  {
   "cell_type": "code",
   "execution_count": 20,
   "metadata": {},
   "outputs": [],
   "source": [
    "planets.append('Pluto')"
   ]
  },
  {
   "cell_type": "code",
   "execution_count": 21,
   "metadata": {},
   "outputs": [
    {
     "name": "stdout",
     "output_type": "stream",
     "text": [
      "There are 8 in the solar system\n",
      "Pluto\n"
     ]
    }
   ],
   "source": [
    "print(\"There are {} in the solar system\".format(len(planets)))\n",
    "print(planets[-1])"
   ]
  },
  {
   "cell_type": "markdown",
   "metadata": {},
   "source": [
    "## Exercise 2: data in lists"
   ]
  },
  {
   "cell_type": "code",
   "execution_count": 22,
   "metadata": {},
   "outputs": [
    {
     "data": {
      "text/plain": [
       "'Pluto'"
      ]
     },
     "execution_count": 22,
     "metadata": {},
     "output_type": "execute_result"
    }
   ],
   "source": [
    "planets.pop()"
   ]
  },
  {
   "cell_type": "code",
   "execution_count": 34,
   "metadata": {},
   "outputs": [],
   "source": [
    "pointedPlanet = input(\"Enter the planet's name: \")\n",
    "#Search a planet\n",
    "try:\n",
    "    a = planets.index(pointedPlanet)\n",
    "except ValueError:\n",
    "    print(f\"{pointedPlanet} was not found in the list of planets.\")"
   ]
  },
  {
   "cell_type": "code",
   "execution_count": 37,
   "metadata": {},
   "outputs": [
    {
     "name": "stdout",
     "output_type": "stream",
     "text": [
      "Closes planets to Earth are: \n",
      "Venus y Mars\n",
      "\n",
      "Planets between the Sun and Earth are: \n",
      "Mercury\n",
      "Venus\n"
     ]
    }
   ],
   "source": [
    "#planets close to pointedPlanet\n",
    "print(f\"Closes planets to {pointedPlanet} are: \")\n",
    "print(f\"{planets[a-1]} y {planets[a+1]}\")\n",
    "print(f\"\\nPlanets between the Sun and {pointedPlanet} are: \")\n",
    "for i in range(a):\n",
    "    print(planets[i])"
   ]
  },
  {
   "cell_type": "code",
   "execution_count": 39,
   "metadata": {},
   "outputs": [
    {
     "name": "stdout",
     "output_type": "stream",
     "text": [
      "Planets between Earth and Neptune are:\n",
      "Mars\n",
      "Jupiter\n",
      "Saturn\n",
      "Neptune\n"
     ]
    }
   ],
   "source": [
    "print(f\"Planets between {pointedPlanet} and Neptune are:\")\n",
    "for i in range(a+1,len(planets)):\n",
    "    print(planets[i])"
   ]
  }
 ],
 "metadata": {
  "interpreter": {
   "hash": "912a5ac745bc23161e2e0ee2ce30b5bbfdfe6b4568a8bd33007a392762d857b8"
  },
  "kernelspec": {
   "display_name": "Python 3.10.2 ('venv': venv)",
   "language": "python",
   "name": "python3"
  },
  "language_info": {
   "codemirror_mode": {
    "name": "ipython",
    "version": 3
   },
   "file_extension": ".py",
   "mimetype": "text/x-python",
   "name": "python",
   "nbconvert_exporter": "python",
   "pygments_lexer": "ipython3",
   "version": "3.10.2"
  },
  "orig_nbformat": 4
 },
 "nbformat": 4,
 "nbformat_minor": 2
}
