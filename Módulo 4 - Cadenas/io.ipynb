{
 "cells": [
  {
   "cell_type": "markdown",
   "metadata": {},
   "source": [
    "# Katas4\n",
    "\n",
    "### Ejercicio 1: Transformar cadenas"
   ]
  },
  {
   "cell_type": "code",
   "execution_count": 69,
   "metadata": {},
   "outputs": [],
   "source": [
    "text = \"\"\"Interesting facts about the Moon. The Moon is Earth's only satellite. There are several interesting facts about the Moon and how it affects life here on Earth. \n",
    "On average, the Moon moves 4cm away from the Earth every year. This yearly drift is not significant enough to cause immediate effects on Earth. The highest daylight temperature of the Moon is 127 C.\"\"\"\n",
    "# print('distance'in text)"
   ]
  },
  {
   "cell_type": "code",
   "execution_count": 70,
   "metadata": {},
   "outputs": [
    {
     "name": "stdout",
     "output_type": "stream",
     "text": [
      "interesting facts about the moon\n",
      " the moon is earth's only satellite\n",
      " there are several interesting facts about the moon and how it affects life here on earth\n",
      " \n",
      "on average, the moon moves 4cm away from the earth every year\n",
      " this yearly drift is not significant enough to cause immediate effects on earth\n",
      " the highest daylight temperature of the moon is 127 c\n",
      "\n"
     ]
    }
   ],
   "source": [
    "# slicing text into every sentence\n",
    "text = text.lower().split('.')\n",
    "for sentence in text:\n",
    "    print(sentence)"
   ]
  },
  {
   "cell_type": "code",
   "execution_count": 71,
   "metadata": {},
   "outputs": [],
   "source": [
    "# defining keywords\n",
    "a, b,c= 'average','temperature', 'distance'"
   ]
  },
  {
   "cell_type": "code",
   "execution_count": 72,
   "metadata": {},
   "outputs": [
    {
     "name": "stdout",
     "output_type": "stream",
     "text": [
      " \n",
      "on average, the moon moves 4cm away from the earth every year\n",
      "\n",
      " the highest daylight temperature of the moon is 127 c\n",
      "\n"
     ]
    }
   ],
   "source": [
    "# looping every sentence searching for a keyword\n",
    "for sentence in text:\n",
    "    if((a in sentence) or (b in sentence) or (c in sentence)):\n",
    "        print(sentence+'\\n')"
   ]
  },
  {
   "cell_type": "code",
   "execution_count": 73,
   "metadata": {},
   "outputs": [
    {
     "name": "stdout",
     "output_type": "stream",
     "text": [
      "interesting facts about the moon the moon is earth's only satellite there are several interesting facts about the moon and how it affects life here on earth \n",
      "on average, the moon moves 4cm away from the earth every year this yearly drift is not significant enough to cause immediate effects on earth the highest daylight temperature of the moon is 127 Celsius\n"
     ]
    }
   ],
   "source": [
    "for sentence, index in zip(text, range(0,len(text))):\n",
    "    if ('c' in sentence and b in sentence):\n",
    "        text[index]=sentence.replace('c','Celsius')\n",
    "\n",
    "\n",
    "print(''.join(text))"
   ]
  },
  {
   "cell_type": "markdown",
   "metadata": {},
   "source": [
    "### Ejercicio 2: Formating strings\n",
    "\n",
    "```\n",
    "Gravity Facts about Ganymede\n",
    "-------------------------------------------------------------------------------\n",
    "Planet Name: Mars\n",
    "Gravity on Ganymede: 1.4300000000000002 m/s2\n",
    "```"
   ]
  },
  {
   "cell_type": "code",
   "execution_count": 79,
   "metadata": {},
   "outputs": [],
   "source": [
    "# Datos con los que vas a trabajar\n",
    "\n",
    "planet = 'Marte '\n",
    "gravity = 0.00143\n",
    "name = 'Ganímedes'"
   ]
  },
  {
   "cell_type": "code",
   "execution_count": 90,
   "metadata": {},
   "outputs": [
    {
     "name": "stdout",
     "output_type": "stream",
     "text": [
      "\n",
      "--------------------------------------------------------------------------------\n",
      "Planet's name: Marte \n",
      "Gravity on Ganímedes: 1.43000 m/s²\n",
      "\n"
     ]
    }
   ],
   "source": [
    "facts = f\"\"\"\n",
    "{'-'*80}\n",
    "Planet's name: {planet}\n",
    "Gravity on {name}: {gravity*1000:.5f} m/s²\n",
    "\"\"\"\n",
    "print(facts)"
   ]
  },
  {
   "cell_type": "code",
   "execution_count": 92,
   "metadata": {},
   "outputs": [
    {
     "name": "stdout",
     "output_type": "stream",
     "text": [
      "\n",
      "Gravity facts about: Ganímedes\n",
      "--------------------------------------------------------------------------------\n",
      "Planet's name: Marte \n",
      "Gravity on Ganímedes: 1.4300000000000002 m/s²\n",
      "\n"
     ]
    }
   ],
   "source": [
    "template = \"\"\"\n",
    "Gravity facts about: {name}\n",
    "{separator}\n",
    "Planet's name: {planet}\n",
    "Gravity on {name}: {gravity} m/s²\n",
    "\"\"\"\n",
    "print(template.format(name=name, planet=planet, separator=('-'*80),gravity=(gravity*1000)))"
   ]
  },
  {
   "cell_type": "code",
   "execution_count": 106,
   "metadata": {},
   "outputs": [
    {
     "name": "stdout",
     "output_type": "stream",
     "text": [
      "\n",
      "Gravity facts about: Moon\n",
      "--------------------------------------------------------------------------------\n",
      "Planet's name: Earth\n",
      "Gravity on Moon: 1.62 m/s²\n",
      "\n"
     ]
    }
   ],
   "source": [
    "name = 'Moon'\n",
    "gravity = 0.00162\n",
    "planet ='Earth'\n",
    "print(template.format(name=name, planet=planet, separator=('-'*80),gravity=round(gravity*1000,10)))"
   ]
  },
  {
   "cell_type": "markdown",
   "metadata": {},
   "source": [
    "## Another perspective"
   ]
  },
  {
   "cell_type": "code",
   "execution_count": 93,
   "metadata": {},
   "outputs": [],
   "source": [
    "name = \"Moon\"\n",
    "gravity = 0.00162 # in kms\n",
    "planet = \"Earth\"\n",
    "# ---------------\n",
    "title = 'Gravity between '+ planet + ' and ' + name"
   ]
  },
  {
   "cell_type": "code",
   "execution_count": 94,
   "metadata": {},
   "outputs": [
    {
     "name": "stdout",
     "output_type": "stream",
     "text": [
      "\n",
      "--------------------------------------------------------------------------------\n",
      "If you were on Moon you would weight about 6.0%\n",
      "of your weight on Earth\n",
      "\n"
     ]
    }
   ],
   "source": [
    "# blueprint = f\"\"\"\n",
    "# {'-'*80}\n",
    "# If you were on {name} you would weight about {round(9.8/(gravity*1000),1)}%\n",
    "# of your weight on Eart\n",
    "# \"\"\"\n",
    "blueprint_2 = \"\"\"\n",
    "{separator}\n",
    "If you were on {name} you would weight about {percentage}%\n",
    "of your weight on {planet}\n",
    "\"\"\".format(name = name, separator = ('-'*80), percentage = (round(9.8/(gravity*1000),1)), planet=planet)\n",
    "print(blueprint_2)\n",
    "# print(blueprint)"
   ]
  },
  {
   "cell_type": "code",
   "execution_count": 95,
   "metadata": {},
   "outputs": [
    {
     "name": "stdout",
     "output_type": "stream",
     "text": [
      "Gravity between Earth and Moon\n",
      "--------------------------------------------------------------------------------\n",
      "If you were on Moon you would weight about 6.0%\n",
      "of your weight on Earth\n",
      "\n"
     ]
    }
   ],
   "source": [
    "totalMessage = title + blueprint_2\n",
    "print(totalMessage)\n"
   ]
  },
  {
   "cell_type": "code",
   "execution_count": 96,
   "metadata": {},
   "outputs": [
    {
     "name": "stdout",
     "output_type": "stream",
     "text": [
      "Gravity between Earth and Moon\n",
      "--------------------------------------------------------------------------------\n",
      "If you were on Ganímedes you would weight about 6.9%\n",
      "of your weight on Marte \n",
      "\n"
     ]
    }
   ],
   "source": [
    "planet = 'Marte '\n",
    "gravity = 0.00143\n",
    "name = 'Ganímedes'\n",
    "blueprint_2 = \"\"\"\n",
    "{separator}\n",
    "If you were on {name} you would weight about {percentage}%\n",
    "of your weight on {planet}\n",
    "\"\"\".format(name = name, separator = ('-'*80), percentage = (round(9.8/(gravity*1000),1)), planet=planet)\n",
    "print(title+blueprint_2)\n"
   ]
  }
 ],
 "metadata": {
  "interpreter": {
   "hash": "912a5ac745bc23161e2e0ee2ce30b5bbfdfe6b4568a8bd33007a392762d857b8"
  },
  "kernelspec": {
   "display_name": "Python 3.10.2 ('venv': venv)",
   "language": "python",
   "name": "python3"
  },
  "language_info": {
   "codemirror_mode": {
    "name": "ipython",
    "version": 3
   },
   "file_extension": ".py",
   "mimetype": "text/x-python",
   "name": "python",
   "nbconvert_exporter": "python",
   "pygments_lexer": "ipython3",
   "version": "3.10.2"
  },
  "orig_nbformat": 4
 },
 "nbformat": 4,
 "nbformat_minor": 2
}
