{
 "cells": [
  {
   "cell_type": "markdown",
   "metadata": {},
   "source": [
    "# Katas 1"
   ]
  },
  {
   "cell_type": "markdown",
   "metadata": {},
   "source": [
    "\n",
    "### Show time!\n",
    "\n",
    "Make a program that shows the date"
   ]
  },
  {
   "cell_type": "code",
   "execution_count": 2,
   "metadata": {},
   "outputs": [
    {
     "name": "stdout",
     "output_type": "stream",
     "text": [
      "today's date is: 2022 02 06\n"
     ]
    }
   ],
   "source": [
    "from datetime import date\n",
    "print(\"today's date is: \" + str(date.today()).replace('-', ' '))"
   ]
  },
  {
   "cell_type": "markdown",
   "metadata": {},
   "source": [
    "### Unit conversor\n",
    "parsec to lightyears"
   ]
  },
  {
   "cell_type": "code",
   "execution_count": 7,
   "metadata": {},
   "outputs": [
    {
     "name": "stdout",
     "output_type": "stream",
     "text": [
      "11 parsec, is 35.87716 lighyears.\n"
     ]
    }
   ],
   "source": [
    "parsec = 11\n",
    "lightyears = parsec* 3.26156\n",
    "print(str(parsec) + \" parsec, is \"+ str(round(lightyears,5))+ \" lighyears.\")"
   ]
  }
 ],
 "metadata": {
  "interpreter": {
   "hash": "912a5ac745bc23161e2e0ee2ce30b5bbfdfe6b4568a8bd33007a392762d857b8"
  },
  "kernelspec": {
   "display_name": "Python 3.8.10 ('venv': venv)",
   "language": "python",
   "name": "python3"
  },
  "language_info": {
   "codemirror_mode": {
    "name": "ipython",
    "version": 3
   },
   "file_extension": ".py",
   "mimetype": "text/x-python",
   "name": "python",
   "nbconvert_exporter": "python",
   "pygments_lexer": "ipython3",
   "version": "3.8.10"
  },
  "orig_nbformat": 4
 },
 "nbformat": 4,
 "nbformat_minor": 2
}
