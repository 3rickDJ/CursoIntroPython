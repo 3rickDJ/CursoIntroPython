{
 "cells": [
  {
   "cell_type": "markdown",
   "metadata": {},
   "source": [
    "# Exercise 1 Arithmetic operations"
   ]
  },
  {
   "cell_type": "code",
   "execution_count": 136,
   "metadata": {},
   "outputs": [
    {
     "data": {
      "text/plain": [
       "628949330"
      ]
     },
     "execution_count": 136,
     "metadata": {},
     "output_type": "execute_result"
    }
   ],
   "source": [
    "# kilometers\n",
    "p1 = 149597870\n",
    "p2 = 778547200\n",
    "distance = abs(p1-p2)\n",
    "distance\n"
   ]
  },
  {
   "cell_type": "code",
   "execution_count": 137,
   "metadata": {},
   "outputs": [
    {
     "data": {
      "text/plain": [
       "390577534"
      ]
     },
     "execution_count": 137,
     "metadata": {},
     "output_type": "execute_result"
    }
   ],
   "source": [
    "# Miles\n",
    "distance*=0.621\n",
    "round(distance)"
   ]
  },
  {
   "cell_type": "markdown",
   "metadata": {},
   "source": [
    "# Exercise 2 strings to numbers"
   ]
  },
  {
   "cell_type": "code",
   "execution_count": 138,
   "metadata": {},
   "outputs": [
    {
     "data": {
      "text/plain": [
       "0"
      ]
     },
     "execution_count": 138,
     "metadata": {},
     "output_type": "execute_result"
    }
   ],
   "source": [
    "p1 = int(input('Enter the distance between the sun and the first planet'))\n",
    "p2 = int(input('Enter the distance between the sun and the second planet'))\n",
    "distance = abs(p2-p1)\n",
    "distance"
   ]
  },
  {
   "cell_type": "code",
   "execution_count": 139,
   "metadata": {},
   "outputs": [
    {
     "name": "stdout",
     "output_type": "stream",
     "text": [
      "Distance in miles: 0.0\n"
     ]
    }
   ],
   "source": [
    "print(f\"Distance in miles: {distance*0.621}\")"
   ]
  },
  {
   "cell_type": "code",
   "execution_count": 140,
   "metadata": {},
   "outputs": [],
   "source": [
    "planet_list = ('Mercurio', 'Venus', 'Tierra', 'Marte',\n",
    "'Júpiter', 'Saturno', 'Urano', 'Neptuno')\n",
    "distancetoSun = ('57900000', '108200000',\n",
    "'149600000','227900000', '778600000', \n",
    "'1433500000', '2872500000', '4495100000' )\n",
    "\n"
   ]
  },
  {
   "cell_type": "code",
   "execution_count": 142,
   "metadata": {},
   "outputs": [
    {
     "name": "stdout",
     "output_type": "stream",
     "text": [
      "The distance between Venus and Mercurio is: \n",
      "50300000 km\n",
      "The distance between Tierra and Mercurio is: \n",
      "91700000 km\n",
      "The distance between Tierra and Venus is: \n",
      "41400000 km\n",
      "The distance between Marte and Mercurio is: \n",
      "170000000 km\n",
      "The distance between Marte and Venus is: \n",
      "119700000 km\n",
      "The distance between Marte and Tierra is: \n",
      "78300000 km\n",
      "The distance between Júpiter and Mercurio is: \n",
      "720700000 km\n",
      "The distance between Júpiter and Venus is: \n",
      "670400000 km\n",
      "The distance between Júpiter and Tierra is: \n",
      "629000000 km\n",
      "The distance between Júpiter and Marte is: \n",
      "550700000 km\n",
      "The distance between Saturno and Mercurio is: \n",
      "1375600000 km\n",
      "The distance between Saturno and Venus is: \n",
      "1325300000 km\n",
      "The distance between Saturno and Tierra is: \n",
      "1283900000 km\n",
      "The distance between Saturno and Marte is: \n",
      "1205600000 km\n",
      "The distance between Saturno and Júpiter is: \n",
      "654900000 km\n",
      "The distance between Urano and Mercurio is: \n",
      "2814600000 km\n",
      "The distance between Urano and Venus is: \n",
      "2764300000 km\n",
      "The distance between Urano and Tierra is: \n",
      "2722900000 km\n",
      "The distance between Urano and Marte is: \n",
      "2644600000 km\n",
      "The distance between Urano and Júpiter is: \n",
      "2093900000 km\n",
      "The distance between Urano and Saturno is: \n",
      "1439000000 km\n",
      "The distance between Neptuno and Mercurio is: \n",
      "4437200000 km\n",
      "The distance between Neptuno and Venus is: \n",
      "4386900000 km\n",
      "The distance between Neptuno and Tierra is: \n",
      "4345500000 km\n",
      "The distance between Neptuno and Marte is: \n",
      "4267200000 km\n",
      "The distance between Neptuno and Júpiter is: \n",
      "3716500000 km\n",
      "The distance between Neptuno and Saturno is: \n",
      "3061600000 km\n",
      "The distance between Neptuno and Urano is: \n",
      "1622600000 km\n"
     ]
    }
   ],
   "source": [
    "for i in range(1,len(planet_list)):\n",
    "    for j in range(i):\n",
    "        p1,p2 = planet_list[i], planet_list[j]\n",
    "        d1,d2 = int(distancetoSun[i]), int(distancetoSun[j])\n",
    "        print(f\"The distance between {p1} and {p2} is: \")\n",
    "        print(f\"{abs(d1-d2)} km\")\n",
    "        "
   ]
  }
 ],
 "metadata": {
  "interpreter": {
   "hash": "912a5ac745bc23161e2e0ee2ce30b5bbfdfe6b4568a8bd33007a392762d857b8"
  },
  "kernelspec": {
   "display_name": "Python 3.10.2 ('venv': venv)",
   "language": "python",
   "name": "python3"
  },
  "language_info": {
   "codemirror_mode": {
    "name": "ipython",
    "version": 3
   },
   "file_extension": ".py",
   "mimetype": "text/x-python",
   "name": "python",
   "nbconvert_exporter": "python",
   "pygments_lexer": "ipython3",
   "version": "3.10.2"
  },
  "orig_nbformat": 4
 },
 "nbformat": 4,
 "nbformat_minor": 2
}
