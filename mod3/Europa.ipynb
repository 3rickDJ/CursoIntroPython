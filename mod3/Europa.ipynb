{
 "cells": [
  {
   "cell_type": "markdown",
   "metadata": {},
   "source": [
    "# Katas 3\n",
    "\n",
    "### Conditional logic!\n",
    "\n",
    "write a conditional program that prints a warning if an asteroid is approaching Earto too quickly.\n",
    "\n",
    "Asteroid's speed varies depending on how close it is to the sun; any speed greater than 25 kilometers per second (km/s) deserves warning!\n",
    "\n",
    "\n",
    "> An asteroid is approaching. Travels at a 49 km/s speed"
   ]
  },
  {
   "cell_type": "code",
   "execution_count": 1,
   "metadata": {},
   "outputs": [
    {
     "name": "stdout",
     "output_type": "stream",
     "text": [
      "Warning! an asteroid is approaching faster!! \n"
     ]
    }
   ],
   "source": [
    "\n",
    "asteroidSpeed=49\n",
    "if asteroidSpeed >25:\n",
    "    print(\"Warning! an asteroid is approaching faster!! \")\n",
    "else:\n",
    "    print(\"Everything is ok\")\n"
   ]
  },
  {
   "cell_type": "markdown",
   "metadata": {},
   "source": [
    "If an asteroid enters Earth's atmosphere at a speed greater than or equal to 20 km/s, it sometimes produces a beam of light that can be seen from Earth. Write the conditional logic that uses if, else, and elif statements to alert people around the world to look for an asteroid in the sky.\n",
    "> There is one that is heading to earth now at a speed of 19 km/s!"
   ]
  },
  {
   "cell_type": "code",
   "execution_count": 3,
   "metadata": {},
   "outputs": [
    {
     "name": "stdout",
     "output_type": "stream",
     "text": [
      "Look up! there is a light beam in the sky\n"
     ]
    }
   ],
   "source": [
    "asteroidSpeed = 19\n",
    "\n",
    "#asteroidSpeed = 20\n",
    "if asteroidSpeed >= 20:\n",
    "    print(\"Look up! there is a light beam in the sky\")\n",
    "else:\n",
    "    print(\"Go to sleep mate c:\")"
   ]
  },
  {
   "cell_type": "markdown",
   "metadata": {},
   "source": [
    "**Asteroids less than 25 meters in greatest dimension will likely burn up as they enter Earth's atmosphere.**\n",
    "\n",
    "If a piece of an asteroid that is larger than 25 meters but smaller than 1000 meters were to hit Earth, it would cause a lot of damage.\n",
    "We also discussed in the previous exercise that:\n",
    "\n",
    "The speed of the asteroid varies depending on how close it is to the sun, and any speed greater than 25 kilometers per second (km/s) deserves a warning.\n",
    "If an asteroid enters the Earth's atmosphere at a speed greater than or equal to 20 km/s, it sometimes produces a beam of light that can be seen from Earth."
   ]
  },
  {
   "cell_type": "code",
   "execution_count": 22,
   "metadata": {},
   "outputs": [
    {
     "name": "stdout",
     "output_type": "stream",
     "text": [
      "Warning! an enormous asteroid is approaching Earth!!\n"
     ]
    }
   ],
   "source": [
    "asteroid_dimention = 100#10 # <25 m^3\n",
    "#distance_to_sun = 1000 # kilometers \n",
    "distance_to_sun = 10000 # 401 #10011 # 10000\n",
    "asteroidSpeed =   10000/distance_to_sun # the closer, the faster it goes\n",
    "\n",
    "if asteroid_dimention >25 and 1000 > asteroid_dimention and asteroidSpeed > 25:\n",
    "    print(\"Warning! an enormous asteroid is fast approaching Earth!!\")\n",
    "elif  asteroid_dimention >25 and 1000 > asteroid_dimention:\n",
    "    print(\"Warning! an enormous asteroid is approaching Earth!!\")\n",
    "elif asteroidSpeed > 25:\n",
    "    print(\"Warning! an asteroid is fast approaching Earth!!\")\n",
    "elif asteroidSpeed >= 20:\n",
    "    print(\"Look up! there is a light beam in the sky\")\n",
    "else:\n",
    "    print(\"nothing to see (~~drink ronpope~~) :)\")\n"
   ]
  }
 ],
 "metadata": {
  "interpreter": {
   "hash": "97cc609b13305c559618ec78a438abc56230b9381f827f22d070313b9a1f3777"
  },
  "kernelspec": {
   "display_name": "Python 3.10.2 64-bit",
   "language": "python",
   "name": "python3"
  },
  "language_info": {
   "codemirror_mode": {
    "name": "ipython",
    "version": 3
   },
   "file_extension": ".py",
   "mimetype": "text/x-python",
   "name": "python",
   "nbconvert_exporter": "python",
   "pygments_lexer": "ipython3",
   "version": "3.10.2"
  },
  "orig_nbformat": 4
 },
 "nbformat": 4,
 "nbformat_minor": 2
}
